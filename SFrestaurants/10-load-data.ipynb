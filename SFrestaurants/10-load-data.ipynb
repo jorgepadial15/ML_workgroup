{
 "cells": [
  {
   "cell_type": "code",
   "execution_count": 1,
   "metadata": {},
   "outputs": [
    {
     "data": {
      "text/plain": [
       "'\\nThe purpose of this notebook is to load and clean the data.  \\nIt should also test the data (e.g., by greatexpectations) to ensure that assumptions about the data are met, \\nand store the cleaned and tested data.\\n\\n\\n'"
      ]
     },
     "execution_count": 1,
     "metadata": {},
     "output_type": "execute_result"
    }
   ],
   "source": [
    "'''\n",
    "The purpose of this notebook is to load and clean the data.  \n",
    "It should also test the data (e.g., by greatexpectations) to ensure that assumptions about the data are met, \n",
    "and store the cleaned and tested data.\n",
    "\n",
    "\n",
    "'''"
   ]
  },
  {
   "cell_type": "code",
   "execution_count": 4,
   "metadata": {},
   "outputs": [],
   "source": [
    "# Load libraries\n",
    "\n",
    "from pandas import read_csv\n",
    "from pandas.plotting import scatter_matrix\n",
    "from matplotlib import pyplot\n",
    "from sklearn.model_selection import train_test_split\n",
    "from sklearn.model_selection import cross_val_score\n",
    "from sklearn.model_selection import StratifiedKFold\n",
    "from sklearn.metrics import classification_report\n",
    "from sklearn.metrics import confusion_matrix\n",
    "from sklearn.metrics import accuracy_score\n",
    "from sklearn.linear_model import LogisticRegression\n",
    "from sklearn.tree import DecisionTreeClassifier\n",
    "from sklearn.neighbors import KNeighborsClassifier\n",
    "from sklearn.discriminant_analysis import LinearDiscriminantAnalysis\n",
    "from sklearn.naive_bayes import GaussianNB\n",
    "from sklearn.svm import SVC\n",
    "\n",
    "#For great-expecations\n",
    "import json\n",
    "import great_expectations as ge\n",
    "from great_expectations.profile import ColumnsExistProfiler\n",
    "import great_expectations.jupyter_ux\n",
    "from great_expectations.datasource.types import BatchKwargs\n",
    "from datetime import datetime"
   ]
  },
  {
   "cell_type": "code",
   "execution_count": 3,
   "metadata": {},
   "outputs": [
    {
     "name": "stdout",
     "output_type": "stream",
     "text": [
      "  business_id            business_name  business_address  business_city  \\\n",
      "1       69618  Fancy Wheatfield Bakery  1362 Stockton St  San Francisco   \n",
      "2       97975               BREADBELLY   1408 Clement St  San Francisco   \n",
      "3       69487   Hakkasan San Francisco       1 Kearny St  San Francisco   \n",
      "4       91044    Chopsticks Restaurant   4615 Mission St  San Francisco   \n",
      "5       85987                  Tselogs      552 Jones St  San Francisco   \n",
      "\n",
      "  business_state business_postal_code business_latitude business_longitude  \\\n",
      "1             CA                94133               NaN                NaN   \n",
      "2             CA                94118               NaN                NaN   \n",
      "3             CA                94108               NaN                NaN   \n",
      "4             CA                94112               NaN                NaN   \n",
      "5             CA                94102               NaN                NaN   \n",
      "\n",
      "  business_location business_phone_number   inspection_id inspection_date  \\\n",
      "1               NaN                   NaN  69618_20190304   3/4/2019 0:00   \n",
      "2               NaN           14157240859  97975_20190725  7/25/2019 0:00   \n",
      "3               NaN                   NaN  69487_20180418  4/18/2018 0:00   \n",
      "4               NaN                   NaN  91044_20170818  8/18/2017 0:00   \n",
      "5               NaN                   NaN  85987_20180412  4/12/2018 0:00   \n",
      "\n",
      "  inspection_score            inspection_type           violation_id  \\\n",
      "1              NaN                  Complaint  69618_20190304_103130   \n",
      "2               96      Routine - Unscheduled  97975_20190725_103124   \n",
      "3               88      Routine - Unscheduled  69487_20180418_103119   \n",
      "4              NaN  Non-inspection site visit                    NaN   \n",
      "5               94      Routine - Unscheduled  85987_20180412_103132   \n",
      "\n",
      "                               violation_description  risk_category  \n",
      "1           Inadequate sewage or wastewater disposal  Moderate Risk  \n",
      "2  Inadequately cleaned or sanitized food contact...  Moderate Risk  \n",
      "3  Inadequate and inaccessible handwashing facili...  Moderate Risk  \n",
      "4                                                NaN            NaN  \n",
      "5                           Improper thawing methods  Moderate Risk  \n"
     ]
    }
   ],
   "source": [
    "# Load dataset\n",
    "filename = \"Restaurant_Scores_-_LIVES_Standard.csv\"\n",
    "names = ['business_id', 'business_name', 'business_address', 'business_city', \n",
    "         'business_state', 'business_postal_code', 'business_latitude', 'business_longitude', \n",
    "         'business_location', 'business_phone_number', 'inspection_id', 'inspection_date', \n",
    "         'inspection_score', 'inspection_type', 'violation_id', 'violation_description', \n",
    "         'risk_category'\n",
    "        ]\n",
    "dataset = read_csv(filename, names=names, low_memory = False)[1:] #removing the first row with names\n",
    "\n",
    "#Take a first look at the data\n",
    "print(dataset.head(5))"
   ]
  },
  {
   "cell_type": "code",
   "execution_count": 46,
   "metadata": {},
   "outputs": [
    {
     "name": "stdout",
     "output_type": "stream",
     "text": [
      "Number of rows:  53973 \n",
      "Number of columns:  17\n"
     ]
    }
   ],
   "source": [
    "#Looking at the size of dataset\n",
    "print(\"Number of rows: \", dataset.shape[0], '\\nNumber of columns: ', dataset.shape[1])"
   ]
  },
  {
   "cell_type": "code",
   "execution_count": 11,
   "metadata": {},
   "outputs": [
    {
     "name": "stdout",
     "output_type": "stream",
     "text": [
      "    business_id business_name business_address  business_city business_state  \\\n",
      "785       86849  Lobsta Truck     Off The Grid  San Francisco             CA   \n",
      "786       83423  Carbon Grill   852 Clement St  San Francisco             CA   \n",
      "\n",
      "    business_postal_code business_latitude business_longitude  \\\n",
      "785                  NaN               NaN                NaN   \n",
      "786                94118               NaN                NaN   \n",
      "\n",
      "    business_location business_phone_number   inspection_id  \\\n",
      "785               NaN                   NaN  86849_20190822   \n",
      "786               NaN          +14155759966  83423_20180612   \n",
      "\n",
      "            inspection_date inspection_score        inspection_type  \\\n",
      "785  08/22/2019 12:00:00 AM              NaN  Reinspection/Followup   \n",
      "786  06/12/2018 12:00:00 AM               72  Routine - Unscheduled   \n",
      "\n",
      "              violation_id             violation_description  risk_category  \n",
      "785                    NaN                               NaN            NaN  \n",
      "786  83423_20180612_103131  Moderate risk vermin infestation  Moderate Risk  \n"
     ]
    }
   ],
   "source": [
    "#Looking at random slices of data\n",
    "\n",
    "print(dataset[784:786])"
   ]
  },
  {
   "cell_type": "markdown",
   "metadata": {},
   "source": [
    "## Great Expectation playground\n",
    "This part is collection of my hello world expectations"
   ]
  },
  {
   "cell_type": "code",
   "execution_count": 9,
   "metadata": {},
   "outputs": [
    {
     "name": "stdout",
     "output_type": "stream",
     "text": [
      "2020-03-07T00:02:11-0600 - INFO - Using project config: D:\\Coding\\ML study group\\ML_workgroup\\SFrestaurants\\great_expectations\\great_expectations.yml\n"
     ]
    }
   ],
   "source": [
    "#Get data context\n",
    "context = ge.data_context.DataContext()"
   ]
  },
  {
   "cell_type": "code",
   "execution_count": 11,
   "metadata": {},
   "outputs": [
    {
     "data": {
      "text/plain": [
       "'20200307T060505.209572Z'"
      ]
     },
     "execution_count": 11,
     "metadata": {},
     "output_type": "execute_result"
    }
   ],
   "source": [
    "#Get a pipeline run id\n",
    "run_id = datetime.utcnow().strftime(\"%Y%m%dT%H%M%S.%fZ\")\n",
    "run_id"
   ]
  },
  {
   "cell_type": "code",
   "execution_count": 12,
   "metadata": {},
   "outputs": [
    {
     "name": "stdout",
     "output_type": "stream",
     "text": [
      "Inspecting your data sources. This may take a moment...\n"
     ]
    },
    {
     "data": {
      "text/html": [
       "<h2 style='margin: 0'>Datasource: dataset (PandasDatasource)</h2>generator: default (SubdirReaderGenerator)<h3 style='margin: 0.2em 0'>Data Assets Found:</h3>\n",
       "    <style type='text/css'>\n",
       "    ul.data-assets {\n",
       "        margin-top: 0px;\n",
       "    }\n",
       "    ul.data-assets li {\n",
       "        line-height: 1.2em;\n",
       "        list-style-type: circle;\n",
       "    }\n",
       "    ul.data-assets li span.expectation-suite {\n",
       "        background: #ddd;\n",
       "    }\n",
       "    </style>\n",
       "    <ul class='data-assets'><li>Restaurant_Scores_-_LIVES_Standard</li><ul><li><span class='expectation-suite'>Expectation Suite</span>: BasicDatasetProfiler</li></ul></ul>"
      ],
      "text/plain": [
       "<IPython.core.display.HTML object>"
      ]
     },
     "metadata": {},
     "output_type": "display_data"
    }
   ],
   "source": [
    "#List all CSV in the folder\n",
    "ge.jupyter_ux.list_available_data_asset_names(context)"
   ]
  },
  {
   "cell_type": "code",
   "execution_count": 19,
   "metadata": {},
   "outputs": [],
   "source": [
    "#Specify our data\n",
    "data_asset_name = 'Restaurant_Scores_-_LIVES_Standard'\n",
    "normalized_data_asset_name = context.normalize_data_asset_name(data_asset_name)\n",
    "expectation_suite_name = 'warning'"
   ]
  },
  {
   "cell_type": "code",
   "execution_count": 21,
   "metadata": {},
   "outputs": [],
   "source": [
    "# Basic expectation \"Expect comlumn to exist\"\n",
    "try:\n",
    "    context.get_expectation_suite(normalized_data_asset_name, expectation_suite_name)\n",
    "except great_expectations.exceptions.DataContextError:\n",
    "    context.create_expectation_suite(data_asset_name=normalized_data_asset_name, expectation_suite_name=expectation_suite_name, overwrite_existing=True);\n",
    "    batch_kwargs = context.yield_batch_kwargs(data_asset_name)\n",
    "    batch = context.get_batch(normalized_data_asset_name, expectation_suite_name, batch_kwargs)\n",
    "    ColumnsExistProfiler().profile(batch)\n",
    "    batch.save_expectation_suite()\n",
    "    expectation_suite = context.get_expectation_suite(normalized_data_asset_name, expectation_suite_name)\n",
    "    context.build_data_docs()"
   ]
  },
  {
   "cell_type": "code",
   "execution_count": 24,
   "metadata": {},
   "outputs": [
    {
     "data": {
      "text/html": [
       "<div>\n",
       "<style scoped>\n",
       "    .dataframe tbody tr th:only-of-type {\n",
       "        vertical-align: middle;\n",
       "    }\n",
       "\n",
       "    .dataframe tbody tr th {\n",
       "        vertical-align: top;\n",
       "    }\n",
       "\n",
       "    .dataframe thead th {\n",
       "        text-align: right;\n",
       "    }\n",
       "</style>\n",
       "<table border=\"1\" class=\"dataframe\">\n",
       "  <thead>\n",
       "    <tr style=\"text-align: right;\">\n",
       "      <th></th>\n",
       "      <th>business_id</th>\n",
       "      <th>business_name</th>\n",
       "      <th>business_address</th>\n",
       "      <th>business_city</th>\n",
       "      <th>business_state</th>\n",
       "      <th>business_postal_code</th>\n",
       "      <th>business_latitude</th>\n",
       "      <th>business_longitude</th>\n",
       "      <th>business_location</th>\n",
       "      <th>business_phone_number</th>\n",
       "      <th>inspection_id</th>\n",
       "      <th>inspection_date</th>\n",
       "      <th>inspection_score</th>\n",
       "      <th>inspection_type</th>\n",
       "      <th>violation_id</th>\n",
       "      <th>violation_description</th>\n",
       "      <th>risk_category</th>\n",
       "    </tr>\n",
       "  </thead>\n",
       "  <tbody>\n",
       "    <tr>\n",
       "      <th>0</th>\n",
       "      <td>69618</td>\n",
       "      <td>Fancy Wheatfield Bakery</td>\n",
       "      <td>1362 Stockton St</td>\n",
       "      <td>San Francisco</td>\n",
       "      <td>CA</td>\n",
       "      <td>94133</td>\n",
       "      <td>NaN</td>\n",
       "      <td>NaN</td>\n",
       "      <td>NaN</td>\n",
       "      <td>NaN</td>\n",
       "      <td>69618_20190304</td>\n",
       "      <td>03/04/2019 12:00:00 AM</td>\n",
       "      <td>NaN</td>\n",
       "      <td>Complaint</td>\n",
       "      <td>69618_20190304_103130</td>\n",
       "      <td>Inadequate sewage or wastewater disposal</td>\n",
       "      <td>Moderate Risk</td>\n",
       "    </tr>\n",
       "    <tr>\n",
       "      <th>1</th>\n",
       "      <td>97975</td>\n",
       "      <td>BREADBELLY</td>\n",
       "      <td>1408 Clement St</td>\n",
       "      <td>San Francisco</td>\n",
       "      <td>CA</td>\n",
       "      <td>94118</td>\n",
       "      <td>NaN</td>\n",
       "      <td>NaN</td>\n",
       "      <td>NaN</td>\n",
       "      <td>1.415724e+10</td>\n",
       "      <td>97975_20190725</td>\n",
       "      <td>07/25/2019 12:00:00 AM</td>\n",
       "      <td>96.0</td>\n",
       "      <td>Routine - Unscheduled</td>\n",
       "      <td>97975_20190725_103124</td>\n",
       "      <td>Inadequately cleaned or sanitized food contact...</td>\n",
       "      <td>Moderate Risk</td>\n",
       "    </tr>\n",
       "    <tr>\n",
       "      <th>2</th>\n",
       "      <td>69487</td>\n",
       "      <td>Hakkasan San Francisco</td>\n",
       "      <td>1 Kearny St</td>\n",
       "      <td>San Francisco</td>\n",
       "      <td>CA</td>\n",
       "      <td>94108</td>\n",
       "      <td>NaN</td>\n",
       "      <td>NaN</td>\n",
       "      <td>NaN</td>\n",
       "      <td>NaN</td>\n",
       "      <td>69487_20180418</td>\n",
       "      <td>04/18/2018 12:00:00 AM</td>\n",
       "      <td>88.0</td>\n",
       "      <td>Routine - Unscheduled</td>\n",
       "      <td>69487_20180418_103119</td>\n",
       "      <td>Inadequate and inaccessible handwashing facili...</td>\n",
       "      <td>Moderate Risk</td>\n",
       "    </tr>\n",
       "    <tr>\n",
       "      <th>3</th>\n",
       "      <td>91044</td>\n",
       "      <td>Chopsticks Restaurant</td>\n",
       "      <td>4615 Mission St</td>\n",
       "      <td>San Francisco</td>\n",
       "      <td>CA</td>\n",
       "      <td>94112</td>\n",
       "      <td>NaN</td>\n",
       "      <td>NaN</td>\n",
       "      <td>NaN</td>\n",
       "      <td>NaN</td>\n",
       "      <td>91044_20170818</td>\n",
       "      <td>08/18/2017 12:00:00 AM</td>\n",
       "      <td>NaN</td>\n",
       "      <td>Non-inspection site visit</td>\n",
       "      <td>NaN</td>\n",
       "      <td>NaN</td>\n",
       "      <td>NaN</td>\n",
       "    </tr>\n",
       "    <tr>\n",
       "      <th>4</th>\n",
       "      <td>85987</td>\n",
       "      <td>Tselogs</td>\n",
       "      <td>552 Jones St</td>\n",
       "      <td>San Francisco</td>\n",
       "      <td>CA</td>\n",
       "      <td>94102</td>\n",
       "      <td>NaN</td>\n",
       "      <td>NaN</td>\n",
       "      <td>NaN</td>\n",
       "      <td>NaN</td>\n",
       "      <td>85987_20180412</td>\n",
       "      <td>04/12/2018 12:00:00 AM</td>\n",
       "      <td>94.0</td>\n",
       "      <td>Routine - Unscheduled</td>\n",
       "      <td>85987_20180412_103132</td>\n",
       "      <td>Improper thawing methods</td>\n",
       "      <td>Moderate Risk</td>\n",
       "    </tr>\n",
       "  </tbody>\n",
       "</table>\n",
       "</div>"
      ],
      "text/plain": [
       "   business_id            business_name  business_address  business_city  \\\n",
       "0        69618  Fancy Wheatfield Bakery  1362 Stockton St  San Francisco   \n",
       "1        97975               BREADBELLY   1408 Clement St  San Francisco   \n",
       "2        69487   Hakkasan San Francisco       1 Kearny St  San Francisco   \n",
       "3        91044    Chopsticks Restaurant   4615 Mission St  San Francisco   \n",
       "4        85987                  Tselogs      552 Jones St  San Francisco   \n",
       "\n",
       "  business_state business_postal_code  business_latitude  business_longitude  \\\n",
       "0             CA                94133                NaN                 NaN   \n",
       "1             CA                94118                NaN                 NaN   \n",
       "2             CA                94108                NaN                 NaN   \n",
       "3             CA                94112                NaN                 NaN   \n",
       "4             CA                94102                NaN                 NaN   \n",
       "\n",
       "  business_location  business_phone_number   inspection_id  \\\n",
       "0               NaN                    NaN  69618_20190304   \n",
       "1               NaN           1.415724e+10  97975_20190725   \n",
       "2               NaN                    NaN  69487_20180418   \n",
       "3               NaN                    NaN  91044_20170818   \n",
       "4               NaN                    NaN  85987_20180412   \n",
       "\n",
       "          inspection_date  inspection_score            inspection_type  \\\n",
       "0  03/04/2019 12:00:00 AM               NaN                  Complaint   \n",
       "1  07/25/2019 12:00:00 AM              96.0      Routine - Unscheduled   \n",
       "2  04/18/2018 12:00:00 AM              88.0      Routine - Unscheduled   \n",
       "3  08/18/2017 12:00:00 AM               NaN  Non-inspection site visit   \n",
       "4  04/12/2018 12:00:00 AM              94.0      Routine - Unscheduled   \n",
       "\n",
       "            violation_id                              violation_description  \\\n",
       "0  69618_20190304_103130           Inadequate sewage or wastewater disposal   \n",
       "1  97975_20190725_103124  Inadequately cleaned or sanitized food contact...   \n",
       "2  69487_20180418_103119  Inadequate and inaccessible handwashing facili...   \n",
       "3                    NaN                                                NaN   \n",
       "4  85987_20180412_103132                           Improper thawing methods   \n",
       "\n",
       "   risk_category  \n",
       "0  Moderate Risk  \n",
       "1  Moderate Risk  \n",
       "2  Moderate Risk  \n",
       "3            NaN  \n",
       "4  Moderate Risk  "
      ]
     },
     "execution_count": 24,
     "metadata": {},
     "output_type": "execute_result"
    }
   ],
   "source": [
    "# Load a batch of data we want to validate\n",
    "batch_kwargs = context.yield_batch_kwargs(data_asset_name)\n",
    "batch = context.get_batch(\n",
    "    data_asset_name = normalized_data_asset_name,\n",
    "    expectation_suite_name = expectation_suite_name,\n",
    "    batch_kwargs = batch_kwargs)\n",
    "batch.head()"
   ]
  },
  {
   "cell_type": "code",
   "execution_count": 25,
   "metadata": {},
   "outputs": [
    {
     "name": "stdout",
     "output_type": "stream",
     "text": [
      "2020-03-07T00:16:35-0600 - INFO - \t17 expectation(s) included in expectation_suite.\n",
      "This data meets all expectations for Restaurant_Scores_-_LIVES_Standard\n"
     ]
    }
   ],
   "source": [
    "#Validate batch\n",
    "validation_result = batch.validate(run_id=run_id)\n",
    "\n",
    "if validation_result[\"success\"]:\n",
    "    print(\"This data meets all expectations for {}\".format(str(data_asset_name)))\n",
    "else:\n",
    "    print(\"This data is not a valid batch of {}\".format(str(data_asset_name)))"
   ]
  },
  {
   "cell_type": "code",
   "execution_count": 26,
   "metadata": {
    "scrolled": true
   },
   "outputs": [
    {
     "name": "stdout",
     "output_type": "stream",
     "text": [
      "{\n",
      "    \"results\": [\n",
      "        {\n",
      "            \"success\": true,\n",
      "            \"expectation_config\": {\n",
      "                \"expectation_type\": \"expect_column_to_exist\",\n",
      "                \"kwargs\": {\n",
      "                    \"column\": \"business_id\"\n",
      "                }\n",
      "            },\n",
      "            \"exception_info\": {\n",
      "                \"raised_exception\": false,\n",
      "                \"exception_message\": null,\n",
      "                \"exception_traceback\": null\n",
      "            }\n",
      "        },\n",
      "        {\n",
      "            \"success\": true,\n",
      "            \"expectation_config\": {\n",
      "                \"expectation_type\": \"expect_column_to_exist\",\n",
      "                \"kwargs\": {\n",
      "                    \"column\": \"business_name\"\n",
      "                }\n",
      "            },\n",
      "            \"exception_info\": {\n",
      "                \"raised_exception\": false,\n",
      "                \"exception_message\": null,\n",
      "                \"exception_traceback\": null\n",
      "            }\n",
      "        },\n",
      "        {\n",
      "            \"success\": true,\n",
      "            \"expectation_config\": {\n",
      "                \"expectation_type\": \"expect_column_to_exist\",\n",
      "                \"kwargs\": {\n",
      "                    \"column\": \"business_address\"\n",
      "                }\n",
      "            },\n",
      "            \"exception_info\": {\n",
      "                \"raised_exception\": false,\n",
      "                \"exception_message\": null,\n",
      "                \"exception_traceback\": null\n",
      "            }\n",
      "        },\n",
      "        {\n",
      "            \"success\": true,\n",
      "            \"expectation_config\": {\n",
      "                \"expectation_type\": \"expect_column_to_exist\",\n",
      "                \"kwargs\": {\n",
      "                    \"column\": \"business_city\"\n",
      "                }\n",
      "            },\n",
      "            \"exception_info\": {\n",
      "                \"raised_exception\": false,\n",
      "                \"exception_message\": null,\n",
      "                \"exception_traceback\": null\n",
      "            }\n",
      "        },\n",
      "        {\n",
      "            \"success\": true,\n",
      "            \"expectation_config\": {\n",
      "                \"expectation_type\": \"expect_column_to_exist\",\n",
      "                \"kwargs\": {\n",
      "                    \"column\": \"business_state\"\n",
      "                }\n",
      "            },\n",
      "            \"exception_info\": {\n",
      "                \"raised_exception\": false,\n",
      "                \"exception_message\": null,\n",
      "                \"exception_traceback\": null\n",
      "            }\n",
      "        },\n",
      "        {\n",
      "            \"success\": true,\n",
      "            \"expectation_config\": {\n",
      "                \"expectation_type\": \"expect_column_to_exist\",\n",
      "                \"kwargs\": {\n",
      "                    \"column\": \"business_postal_code\"\n",
      "                }\n",
      "            },\n",
      "            \"exception_info\": {\n",
      "                \"raised_exception\": false,\n",
      "                \"exception_message\": null,\n",
      "                \"exception_traceback\": null\n",
      "            }\n",
      "        },\n",
      "        {\n",
      "            \"success\": true,\n",
      "            \"expectation_config\": {\n",
      "                \"expectation_type\": \"expect_column_to_exist\",\n",
      "                \"kwargs\": {\n",
      "                    \"column\": \"business_latitude\"\n",
      "                }\n",
      "            },\n",
      "            \"exception_info\": {\n",
      "                \"raised_exception\": false,\n",
      "                \"exception_message\": null,\n",
      "                \"exception_traceback\": null\n",
      "            }\n",
      "        },\n",
      "        {\n",
      "            \"success\": true,\n",
      "            \"expectation_config\": {\n",
      "                \"expectation_type\": \"expect_column_to_exist\",\n",
      "                \"kwargs\": {\n",
      "                    \"column\": \"business_longitude\"\n",
      "                }\n",
      "            },\n",
      "            \"exception_info\": {\n",
      "                \"raised_exception\": false,\n",
      "                \"exception_message\": null,\n",
      "                \"exception_traceback\": null\n",
      "            }\n",
      "        },\n",
      "        {\n",
      "            \"success\": true,\n",
      "            \"expectation_config\": {\n",
      "                \"expectation_type\": \"expect_column_to_exist\",\n",
      "                \"kwargs\": {\n",
      "                    \"column\": \"business_location\"\n",
      "                }\n",
      "            },\n",
      "            \"exception_info\": {\n",
      "                \"raised_exception\": false,\n",
      "                \"exception_message\": null,\n",
      "                \"exception_traceback\": null\n",
      "            }\n",
      "        },\n",
      "        {\n",
      "            \"success\": true,\n",
      "            \"expectation_config\": {\n",
      "                \"expectation_type\": \"expect_column_to_exist\",\n",
      "                \"kwargs\": {\n",
      "                    \"column\": \"business_phone_number\"\n",
      "                }\n",
      "            },\n",
      "            \"exception_info\": {\n",
      "                \"raised_exception\": false,\n",
      "                \"exception_message\": null,\n",
      "                \"exception_traceback\": null\n",
      "            }\n",
      "        },\n",
      "        {\n",
      "            \"success\": true,\n",
      "            \"expectation_config\": {\n",
      "                \"expectation_type\": \"expect_column_to_exist\",\n",
      "                \"kwargs\": {\n",
      "                    \"column\": \"inspection_id\"\n",
      "                }\n",
      "            },\n",
      "            \"exception_info\": {\n",
      "                \"raised_exception\": false,\n",
      "                \"exception_message\": null,\n",
      "                \"exception_traceback\": null\n",
      "            }\n",
      "        },\n",
      "        {\n",
      "            \"success\": true,\n",
      "            \"expectation_config\": {\n",
      "                \"expectation_type\": \"expect_column_to_exist\",\n",
      "                \"kwargs\": {\n",
      "                    \"column\": \"inspection_date\"\n",
      "                }\n",
      "            },\n",
      "            \"exception_info\": {\n",
      "                \"raised_exception\": false,\n",
      "                \"exception_message\": null,\n",
      "                \"exception_traceback\": null\n",
      "            }\n",
      "        },\n",
      "        {\n",
      "            \"success\": true,\n",
      "            \"expectation_config\": {\n",
      "                \"expectation_type\": \"expect_column_to_exist\",\n",
      "                \"kwargs\": {\n",
      "                    \"column\": \"inspection_score\"\n",
      "                }\n",
      "            },\n",
      "            \"exception_info\": {\n",
      "                \"raised_exception\": false,\n",
      "                \"exception_message\": null,\n",
      "                \"exception_traceback\": null\n",
      "            }\n",
      "        },\n",
      "        {\n",
      "            \"success\": true,\n",
      "            \"expectation_config\": {\n",
      "                \"expectation_type\": \"expect_column_to_exist\",\n",
      "                \"kwargs\": {\n",
      "                    \"column\": \"inspection_type\"\n",
      "                }\n",
      "            },\n",
      "            \"exception_info\": {\n",
      "                \"raised_exception\": false,\n",
      "                \"exception_message\": null,\n",
      "                \"exception_traceback\": null\n",
      "            }\n",
      "        },\n",
      "        {\n",
      "            \"success\": true,\n",
      "            \"expectation_config\": {\n",
      "                \"expectation_type\": \"expect_column_to_exist\",\n",
      "                \"kwargs\": {\n",
      "                    \"column\": \"violation_id\"\n",
      "                }\n",
      "            },\n",
      "            \"exception_info\": {\n",
      "                \"raised_exception\": false,\n",
      "                \"exception_message\": null,\n",
      "                \"exception_traceback\": null\n",
      "            }\n",
      "        },\n",
      "        {\n",
      "            \"success\": true,\n",
      "            \"expectation_config\": {\n",
      "                \"expectation_type\": \"expect_column_to_exist\",\n",
      "                \"kwargs\": {\n",
      "                    \"column\": \"violation_description\"\n",
      "                }\n",
      "            },\n",
      "            \"exception_info\": {\n",
      "                \"raised_exception\": false,\n",
      "                \"exception_message\": null,\n",
      "                \"exception_traceback\": null\n",
      "            }\n",
      "        },\n",
      "        {\n",
      "            \"success\": true,\n",
      "            \"expectation_config\": {\n",
      "                \"expectation_type\": \"expect_column_to_exist\",\n",
      "                \"kwargs\": {\n",
      "                    \"column\": \"risk_category\"\n",
      "                }\n",
      "            },\n",
      "            \"exception_info\": {\n",
      "                \"raised_exception\": false,\n",
      "                \"exception_message\": null,\n",
      "                \"exception_traceback\": null\n",
      "            }\n",
      "        }\n",
      "    ],\n",
      "    \"success\": true,\n",
      "    \"statistics\": {\n",
      "        \"evaluated_expectations\": 17,\n",
      "        \"successful_expectations\": 17,\n",
      "        \"unsuccessful_expectations\": 0,\n",
      "        \"success_percent\": 100.0\n",
      "    },\n",
      "    \"meta\": {\n",
      "        \"great_expectations.__version__\": \"0.8.8\",\n",
      "        \"data_asset_name\": \"dataset/default/Restaurant_Scores_-_LIVES_Standard\",\n",
      "        \"expectation_suite_name\": \"warning\",\n",
      "        \"run_id\": \"20200307T060505.209572Z\",\n",
      "        \"batch_kwargs\": {\n",
      "            \"path\": \"d:\\\\Coding\\\\ML study group\\\\ML_workgroup\\\\SFrestaurants\\\\Restaurant_Scores_-_LIVES_Standard.csv\",\n",
      "            \"partition_id\": \"Restaurant_Scores_-_LIVES_Standard\",\n",
      "            \"reader_options\": {\n",
      "                \"sep\": null,\n",
      "                \"engine\": \"python\"\n",
      "            }\n",
      "        },\n",
      "        \"batch_id\": {\n",
      "            \"timestamp\": 1583561752.352065,\n",
      "            \"fingerprint\": \"dd609338cc816881f275832d1d6b8da6\"\n",
      "        }\n",
      "    }\n",
      "}\n"
     ]
    }
   ],
   "source": [
    "#Review the validation results\n",
    "print(json.dumps(validation_result, indent=4))"
   ]
  },
  {
   "cell_type": "code",
   "execution_count": 27,
   "metadata": {},
   "outputs": [
    {
     "data": {
      "text/plain": [
       "{'success': True,\n",
       " 'result': {'element_count': 53973,\n",
       "  'unexpected_count': 0,\n",
       "  'unexpected_percent': 0.0,\n",
       "  'partial_unexpected_list': []}}"
      ]
     },
     "execution_count": 27,
     "metadata": {},
     "output_type": "execute_result"
    }
   ],
   "source": [
    "#Expectation \"Expect values in the first column not to be null\"\n",
    "column_name = batch.get_table_columns()[0]\n",
    "batch.expect_column_values_to_not_be_null(column_name)"
   ]
  },
  {
   "cell_type": "code",
   "execution_count": 29,
   "metadata": {},
   "outputs": [
    {
     "data": {
      "text/plain": [
       "{'success': False,\n",
       " 'result': {'element_count': 53973,\n",
       "  'unexpected_count': 13720,\n",
       "  'unexpected_percent': 25.42011746614048,\n",
       "  'partial_unexpected_list': []}}"
      ]
     },
     "execution_count": 29,
     "metadata": {},
     "output_type": "execute_result"
    }
   ],
   "source": [
    "#Expectation \"Expect values in the last column not to be null\"\n",
    "column_name = batch.get_table_columns()[16]\n",
    "batch.expect_column_values_to_not_be_null(column_name)"
   ]
  },
  {
   "cell_type": "code",
   "execution_count": 32,
   "metadata": {},
   "outputs": [
    {
     "data": {
      "text/plain": [
       "{'success': True,\n",
       " 'result': {'element_count': 53973,\n",
       "  'missing_count': 13720,\n",
       "  'missing_percent': 25.42011746614048,\n",
       "  'unexpected_count': 0,\n",
       "  'unexpected_percent': 0.0,\n",
       "  'unexpected_percent_nonmissing': 0.0,\n",
       "  'partial_unexpected_list': []}}"
      ]
     },
     "execution_count": 32,
     "metadata": {},
     "output_type": "execute_result"
    }
   ],
   "source": [
    "# Expectation \"Expect values in column 'risk_category' to be following values:\n",
    "batch.expect_column_values_to_be_in_set('risk_category', ['Low Risk','Moderate Risk', 'High Risk', 'NaN'])"
   ]
  },
  {
   "cell_type": "code",
   "execution_count": 33,
   "metadata": {},
   "outputs": [
    {
     "data": {
      "text/plain": [
       "{'success': False,\n",
       " 'result': {'element_count': 53973,\n",
       "  'missing_count': 0,\n",
       "  'missing_percent': 0.0,\n",
       "  'unexpected_count': 11089,\n",
       "  'unexpected_percent': 20.545457914142258,\n",
       "  'unexpected_percent_nonmissing': 20.545457914142258,\n",
       "  'partial_unexpected_list': ['New Ownership - Followup',\n",
       "   'New Ownership',\n",
       "   'Reinspection/Followup',\n",
       "   'Reinspection/Followup',\n",
       "   'Reinspection/Followup',\n",
       "   'New Ownership - Followup',\n",
       "   'New Ownership - Followup',\n",
       "   'Reinspection/Followup',\n",
       "   'New Ownership',\n",
       "   'Reinspection/Followup',\n",
       "   'Reinspection/Followup',\n",
       "   'Reinspection/Followup',\n",
       "   'Reinspection/Followup',\n",
       "   'Structural Inspection',\n",
       "   'Reinspection/Followup',\n",
       "   'New Ownership - Followup',\n",
       "   'New Ownership',\n",
       "   'New Ownership',\n",
       "   'New Ownership',\n",
       "   'New Ownership']}}"
      ]
     },
     "execution_count": 33,
     "metadata": {},
     "output_type": "execute_result"
    }
   ],
   "source": [
    "# Expectation \"Expect values in column 'inspection_type' to be following values:\n",
    "batch.expect_column_values_to_be_in_set('inspection_type', \n",
    "                                        ['Complaint','Routine - Unscheduled', 'Non-inspection site visit', 'NaN'])"
   ]
  },
  {
   "cell_type": "code",
   "execution_count": 34,
   "metadata": {},
   "outputs": [
    {
     "name": "stdout",
     "output_type": "stream",
     "text": [
      "2020-03-07T00:38:48-0600 - INFO - \t19 expectation(s) included in expectation_suite. Omitting 2 expectation(s) that failed when last run; set discard_failed_expectations=False to include them. result_format settings filtered.\n"
     ]
    },
    {
     "data": {
      "text/plain": [
       "{'data_asset_name': 'dataset/default/Restaurant_Scores_-_LIVES_Standard',\n",
       " 'expectation_suite_name': 'warning',\n",
       " 'meta': {'great_expectations.__version__': '0.8.8'},\n",
       " 'expectations': [{'expectation_type': 'expect_column_to_exist',\n",
       "   'kwargs': {'column': 'business_id'}},\n",
       "  {'expectation_type': 'expect_column_to_exist',\n",
       "   'kwargs': {'column': 'business_name'}},\n",
       "  {'expectation_type': 'expect_column_to_exist',\n",
       "   'kwargs': {'column': 'business_address'}},\n",
       "  {'expectation_type': 'expect_column_to_exist',\n",
       "   'kwargs': {'column': 'business_city'}},\n",
       "  {'expectation_type': 'expect_column_to_exist',\n",
       "   'kwargs': {'column': 'business_state'}},\n",
       "  {'expectation_type': 'expect_column_to_exist',\n",
       "   'kwargs': {'column': 'business_postal_code'}},\n",
       "  {'expectation_type': 'expect_column_to_exist',\n",
       "   'kwargs': {'column': 'business_latitude'}},\n",
       "  {'expectation_type': 'expect_column_to_exist',\n",
       "   'kwargs': {'column': 'business_longitude'}},\n",
       "  {'expectation_type': 'expect_column_to_exist',\n",
       "   'kwargs': {'column': 'business_location'}},\n",
       "  {'expectation_type': 'expect_column_to_exist',\n",
       "   'kwargs': {'column': 'business_phone_number'}},\n",
       "  {'expectation_type': 'expect_column_to_exist',\n",
       "   'kwargs': {'column': 'inspection_id'}},\n",
       "  {'expectation_type': 'expect_column_to_exist',\n",
       "   'kwargs': {'column': 'inspection_date'}},\n",
       "  {'expectation_type': 'expect_column_to_exist',\n",
       "   'kwargs': {'column': 'inspection_score'}},\n",
       "  {'expectation_type': 'expect_column_to_exist',\n",
       "   'kwargs': {'column': 'inspection_type'}},\n",
       "  {'expectation_type': 'expect_column_to_exist',\n",
       "   'kwargs': {'column': 'violation_id'}},\n",
       "  {'expectation_type': 'expect_column_to_exist',\n",
       "   'kwargs': {'column': 'violation_description'}},\n",
       "  {'expectation_type': 'expect_column_to_exist',\n",
       "   'kwargs': {'column': 'risk_category'}},\n",
       "  {'expectation_type': 'expect_column_values_to_not_be_null',\n",
       "   'kwargs': {'column': 'business_id'}},\n",
       "  {'expectation_type': 'expect_column_values_to_be_in_set',\n",
       "   'kwargs': {'column': 'risk_category',\n",
       "    'value_set': ['Low Risk', 'Moderate Risk', 'High Risk', 'NaN']}}],\n",
       " 'data_asset_type': 'Dataset'}"
      ]
     },
     "execution_count": 34,
     "metadata": {},
     "output_type": "execute_result"
    }
   ],
   "source": [
    "#Review results\n",
    "batch.get_expectation_suite()"
   ]
  },
  {
   "cell_type": "code",
   "execution_count": 35,
   "metadata": {},
   "outputs": [
    {
     "name": "stdout",
     "output_type": "stream",
     "text": [
      "2020-03-07T00:39:48-0600 - INFO - \t19 expectation(s) included in expectation_suite. Omitting 2 expectation(s) that failed when last run; set discard_failed_expectations=False to include them. result_format settings filtered.\n"
     ]
    }
   ],
   "source": [
    "#Save results\n",
    "batch.save_expectation_suite()"
   ]
  },
  {
   "cell_type": "code",
   "execution_count": 36,
   "metadata": {},
   "outputs": [],
   "source": [
    "#Create and view Data Docs\n",
    "context.build_data_docs()\n",
    "context.open_data_docs()"
   ]
  },
  {
   "cell_type": "code",
   "execution_count": null,
   "metadata": {},
   "outputs": [],
   "source": []
  }
 ],
 "metadata": {
  "kernelspec": {
   "display_name": "Python 3",
   "language": "python",
   "name": "python3"
  },
  "language_info": {
   "codemirror_mode": {
    "name": "ipython",
    "version": 3
   },
   "file_extension": ".py",
   "mimetype": "text/x-python",
   "name": "python",
   "nbconvert_exporter": "python",
   "pygments_lexer": "ipython3",
   "version": "3.8.1"
  }
 },
 "nbformat": 4,
 "nbformat_minor": 4
}
